{
  "nbformat": 4,
  "nbformat_minor": 0,
  "metadata": {
    "colab": {
      "provenance": [],
      "authorship_tag": "ABX9TyMl9RFeS4gORpQlsP+hMhTA",
      "include_colab_link": true
    },
    "kernelspec": {
      "name": "python3",
      "display_name": "Python 3"
    },
    "language_info": {
      "name": "python"
    }
  },
  "cells": [
    {
      "cell_type": "markdown",
      "metadata": {
        "id": "view-in-github",
        "colab_type": "text"
      },
      "source": [
        "<a href=\"https://colab.research.google.com/github/FuadHamdiBahar/Deep-Learning-Machine-Learning-Tasks/blob/main/Simple_Regression_Using_Tensorflow_Model.ipynb\" target=\"_parent\"><img src=\"https://colab.research.google.com/assets/colab-badge.svg\" alt=\"Open In Colab\"/></a>"
      ]
    },
    {
      "cell_type": "markdown",
      "source": [
        "# **Simple Regression Using Tensorflow Model**\n",
        "\n",
        "Dataset: https://www.kaggle.com/datasets/andonians/random-linear-regression"
      ],
      "metadata": {
        "id": "9mM2otOeWGll"
      }
    },
    {
      "cell_type": "code",
      "execution_count": 1,
      "metadata": {
        "id": "LaqNJoHRLSeN"
      },
      "outputs": [],
      "source": [
        "import numpy as np\n",
        "import pandas as pd\n",
        "import tensorflow as tf\n",
        "import matplotlib.pyplot as plt"
      ]
    },
    {
      "cell_type": "markdown",
      "source": [
        "First, we try to read csv data and convert it into pandas DataFrame. After that, based on recent project, we need to drop the missing value."
      ],
      "metadata": {
        "id": "iMJ5JtnCWvAc"
      }
    },
    {
      "cell_type": "code",
      "source": [
        "df_train = pd.read_csv('/content/train.csv')\n",
        "df_train.dropna(axis=0, inplace=True)\n",
        "df_train.isna().sum()"
      ],
      "metadata": {
        "colab": {
          "base_uri": "https://localhost:8080/"
        },
        "id": "t6nJXs52Lcau",
        "outputId": "2cf3070d-965e-49eb-9620-e266e618bf4f"
      },
      "execution_count": 2,
      "outputs": [
        {
          "output_type": "execute_result",
          "data": {
            "text/plain": [
              "x    0\n",
              "y    0\n",
              "dtype: int64"
            ]
          },
          "metadata": {},
          "execution_count": 2
        }
      ]
    },
    {
      "cell_type": "markdown",
      "source": [
        "Convert series data to numpy data."
      ],
      "metadata": {
        "id": "jTY0vMxLXFI1"
      }
    },
    {
      "cell_type": "code",
      "source": [
        "X_train = df_train['x'].to_numpy()\n",
        "y_train = df_train['y'].to_numpy()"
      ],
      "metadata": {
        "id": "FtFN24ePMQJX"
      },
      "execution_count": 3,
      "outputs": []
    },
    {
      "cell_type": "markdown",
      "source": [
        "Make some plot to show the trend of data"
      ],
      "metadata": {
        "id": "GzWOaqXsXdr4"
      }
    },
    {
      "cell_type": "code",
      "source": [
        "plt.scatter(X_train, y_train)"
      ],
      "metadata": {
        "colab": {
          "base_uri": "https://localhost:8080/",
          "height": 282
        },
        "id": "GS-3HBAiROIg",
        "outputId": "694984eb-c508-4434-cec4-be1879e34b80"
      },
      "execution_count": 4,
      "outputs": [
        {
          "output_type": "execute_result",
          "data": {
            "text/plain": [
              "<matplotlib.collections.PathCollection at 0x7f6969b1f670>"
            ]
          },
          "metadata": {},
          "execution_count": 4
        },
        {
          "output_type": "display_data",
          "data": {
            "text/plain": [
              "<Figure size 432x288 with 1 Axes>"
            ],
            "image/png": "[encoded data removed]"
          },
          "metadata": {
            "needs_background": "light"
          }
        }
      ]
    },
    {
      "cell_type": "markdown",
      "source": [
        "Create sequential model with only one Dense, adam optimizer and mse as a loss function."
      ],
      "metadata": {
        "id": "E8hksE1pXfAe"
      }
    },
    {
      "cell_type": "code",
      "source": [
        "model = tf.keras.models.Sequential()\n",
        "model.add(tf.keras.layers.Dense(1, input_shape = (1,)))\n",
        "model.compile(optimizer = 'adam', loss = 'mse')\n",
        "model.summary()"
      ],
      "metadata": {
        "colab": {
          "base_uri": "https://localhost:8080/"
        },
        "id": "h0uKGs3cMVp5",
        "outputId": "5224cf36-f0b9-480c-b414-2035c4077aff"
      },
      "execution_count": 5,
      "outputs": [
        {
          "output_type": "stream",
          "name": "stdout",
          "text": [
            "Model: \"sequential\"\n",
            "_________________________________________________________________\n",
            " Layer (type)                Output Shape              Param #   \n",
            "=================================================================\n",
            " dense (Dense)               (None, 1)                 2         \n",
            "                                                                 \n",
            "=================================================================\n",
            "Total params: 2\n",
            "Trainable params: 2\n",
            "Non-trainable params: 0\n",
            "_________________________________________________________________\n"
          ]
        }
      ]
    },
    {
      "cell_type": "markdown",
      "source": [
        "Fit data to the model."
      ],
      "metadata": {
        "id": "meHX9MXSXtLH"
      }
    },
    {
      "cell_type": "code",
      "source": [
        "model.fit(X_train, y_train, epochs = 200, verbose = 0)"
      ],
      "metadata": {
        "colab": {
          "base_uri": "https://localhost:8080/"
        },
        "id": "lIDDOxt9Mk9F",
        "outputId": "c1856868-663e-4ef0-c83b-d64b74c16f57"
      },
      "execution_count": 6,
      "outputs": [
        {
          "output_type": "execute_result",
          "data": {
            "text/plain": [
              "<keras.callbacks.History at 0x7f6964fde0d0>"
            ]
          },
          "metadata": {},
          "execution_count": 6
        }
      ]
    },
    {
      "cell_type": "markdown",
      "source": [
        "Prepare data test for prediction"
      ],
      "metadata": {
        "id": "np640i72X1g9"
      }
    },
    {
      "cell_type": "code",
      "source": [
        "df_test = pd.read_csv('/content/test.csv')\n",
        "df_test.isna().sum()\n",
        "\n",
        "X_test = df_test['x'].to_numpy()\n",
        "y_test = df_test['y'].to_numpy()"
      ],
      "metadata": {
        "id": "pPUA9ZsGNdsw"
      },
      "execution_count": 7,
      "outputs": []
    },
    {
      "cell_type": "code",
      "source": [
        "y_pred = model.predict(X_test)"
      ],
      "metadata": {
        "colab": {
          "base_uri": "https://localhost:8080/"
        },
        "id": "7tvsO_fFVcc5",
        "outputId": "c186dfda-e6ec-4424-94c4-be61465f2719"
      },
      "execution_count": 8,
      "outputs": [
        {
          "output_type": "stream",
          "name": "stdout",
          "text": [
            "10/10 [==============================] - 0s 2ms/step\n"
          ]
        }
      ]
    },
    {
      "cell_type": "markdown",
      "source": [
        "Show several metrics to evaluate model performance"
      ],
      "metadata": {
        "id": "TYzlEO69YA87"
      }
    },
    {
      "cell_type": "code",
      "source": [
        "from sklearn.metrics import mean_squared_error, mean_absolute_error, r2_score\n",
        "\n",
        "mae = mean_absolute_error(y_test, y_pred)\n",
        "mse = mean_squared_error(y_test, y_pred)\n",
        "rmse = np.sqrt(mse)\n",
        "r_squared = r2_score(y_test, y_pred)\n",
        "\n",
        "print('Mean Absolute Erorr \\t: ', mae)\n",
        "print('Mean Squared Erorr \\t: ', mse)\n",
        "print('Root Mean Squared Erorr : ', rmse)\n",
        "print('R2 Squared \\t\\t: ', r_squared)  "
      ],
      "metadata": {
        "colab": {
          "base_uri": "https://localhost:8080/"
        },
        "id": "L6xhNJcNVlbd",
        "outputId": "ed84e2f8-3c83-4a75-aa69-8ea90464e21a"
      },
      "execution_count": 9,
      "outputs": [
        {
          "output_type": "stream",
          "name": "stdout",
          "text": [
            "Mean Absolute Erorr \t:  2.40820070789723\n",
            "Mean Squared Erorr \t:  9.35628446524036\n",
            "Root Mean Squared Erorr :  3.058804417618158\n",
            "R2 Squared \t\t:  0.9888924270386374\n"
          ]
        }
      ]
    },
    {
      "cell_type": "code",
      "source": [
        "plt.scatter(X_test, y_test, color=\"blue\")\n",
        "plt.plot(X_test, y_pred, color=\"red\", linewidth=3)\n",
        "\n",
        "plt.show()"
      ],
      "metadata": {
        "colab": {
          "base_uri": "https://localhost:8080/",
          "height": 265
        },
        "id": "iZuDwqPxVmov",
        "outputId": "2e3e0885-e6f3-4235-a21c-f04c01f012b8"
      },
      "execution_count": 10,
      "outputs": [
        {
          "output_type": "display_data",
          "data": {
            "text/plain": [
              "<Figure size 432x288 with 1 Axes>"
            ],
            "image/png": "[encoded data removed]"
          },
          "metadata": {
            "needs_background": "light"
          }
        }
      ]
    },
    {
      "cell_type": "markdown",
      "source": [
        "THANK YOU.\n",
        "\n",
        "I WILL BE VERY HAPPY TO COLLABORATE.\n",
        "\n",
        "Gmail : fuadhamdi99@gmail.com\n",
        "\n",
        "LinkedIn : https://www.linkedin.com/in/fuad-hamdi-bahar-b11784205/\n",
        "\n",
        "GitHub : https://github.com/FuadHamdiBahar"
      ],
      "metadata": {
        "id": "5D3oq3g6YGqy"
      }
    }
  ]
}