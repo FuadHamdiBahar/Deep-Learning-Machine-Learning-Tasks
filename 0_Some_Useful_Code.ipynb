{
  "nbformat": 4,
  "nbformat_minor": 0,
  "metadata": {
    "colab": {
      "provenance": [],
      "authorship_tag": "ABX9TyOuL1htgnIayYVNu3oCqnSt",
      "include_colab_link": true
    },
    "kernelspec": {
      "name": "python3",
      "display_name": "Python 3"
    },
    "language_info": {
      "name": "python"
    }
  },
  "cells": [
    {
      "cell_type": "markdown",
      "metadata": {
        "id": "view-in-github",
        "colab_type": "text"
      },
      "source": [
        "<a href=\"https://colab.research.google.com/github/FuadHamdiBahar/Deep-Learning-Machine-Learning-Tasks/blob/main/0_Some_Useful_Code.ipynb\" target=\"_parent\"><img src=\"https://colab.research.google.com/assets/colab-badge.svg\" alt=\"Open In Colab\"/></a>"
      ]
    },
    {
      "cell_type": "code",
      "execution_count": null,
      "metadata": {
        "id": "pQFFtVLbeUfl"
      },
      "outputs": [],
      "source": [
        "# Count missing value of data\n",
        "dataFrame.isna().sum()"
      ]
    },
    {
      "cell_type": "code",
      "source": [
        "# Create some condition and get the index to make it a new dataFrame\n",
        "# Dataset (Kaggle) : winemag-data-130k-v2.csv\n",
        "italian_wines = reviews.loc[reviews.country == 'Italy']\n",
        "top_oceania_wines = reviews.loc[(reviews.country.isin(['Australia', 'New Zealand'])) & (reviews.points >= 95)]"
      ],
      "metadata": {
        "id": "WZTgrqm-epvf"
      },
      "execution_count": null,
      "outputs": []
    },
    {
      "cell_type": "code",
      "source": [
        "# Get all unique value of columns\n",
        "reviews.<LABEL>.unique()"
      ],
      "metadata": {
        "id": "xDpGV33-eyOY"
      },
      "execution_count": null,
      "outputs": []
    },
    {
      "cell_type": "code",
      "source": [
        "# Get sum of all the label\n",
        "df.<LABEL>.value_counts()"
      ],
      "metadata": {
        "id": "ClYZJq6Ce0Xe"
      },
      "execution_count": null,
      "outputs": []
    },
    {
      "cell_type": "code",
      "source": [
        "# Convert spesific pandas dataframe to numpy array\n",
        "df.iloc[:, :-1].values"
      ],
      "metadata": {
        "id": "kv3lTXMfe2eJ"
      },
      "execution_count": null,
      "outputs": []
    },
    {
      "cell_type": "code",
      "source": [
        "# One Hot Encoding by pandas\n",
        "pd.get_dummies(<VARIABLE>)"
      ],
      "metadata": {
        "id": "QzDAYUo4e42d"
      },
      "execution_count": null,
      "outputs": []
    },
    {
      "cell_type": "code",
      "source": [
        "# Auto multi color scatter plot using seaborn\n",
        "sns.seaborn(x, y, hue=<LABEL_VARIABLE>)"
      ],
      "metadata": {
        "id": "4zRZG9y0e7Jb"
      },
      "execution_count": null,
      "outputs": []
    },
    {
      "cell_type": "code",
      "source": [
        "# Create data\n",
        "make_classification(n_features=<JUMLAH_KOLOM>, n_classes=<JUMLAH_CLASS>)"
      ],
      "metadata": {
        "id": "cSom8xXCe-i-"
      },
      "execution_count": null,
      "outputs": []
    },
    {
      "cell_type": "code",
      "source": [
        "# Create dataFrame frim dict\n",
        "pd.DataFrame.from_dict(<DICTIONARY>)"
      ],
      "metadata": {
        "id": "l6tDusfxfAih"
      },
      "execution_count": null,
      "outputs": []
    }
  ]
}